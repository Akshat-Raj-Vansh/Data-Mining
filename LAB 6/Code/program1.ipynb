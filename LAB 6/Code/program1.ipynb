{
 "cells": [
  {
   "cell_type": "markdown",
   "id": "70c7a442",
   "metadata": {},
   "source": [
    "##### Importing all files"
   ]
  },
  {
   "cell_type": "code",
   "execution_count": 1,
   "id": "66fc08e4",
   "metadata": {},
   "outputs": [],
   "source": [
    "import numpy as np\n",
    "import pandas as pd\n",
    "from apyori import apriori"
   ]
  },
  {
   "cell_type": "markdown",
   "id": "ce77f6e4",
   "metadata": {},
   "source": [
    "##### Reading dataset"
   ]
  },
  {
   "cell_type": "code",
   "execution_count": 3,
   "id": "809f6780",
   "metadata": {},
   "outputs": [
    {
     "name": "stdout",
     "output_type": "stream",
     "text": [
      "<class 'pandas.core.frame.DataFrame'>\n",
      "RangeIndex: 768 entries, 0 to 767\n",
      "Data columns (total 9 columns):\n",
      " #   Column                    Non-Null Count  Dtype  \n",
      "---  ------                    --------------  -----  \n",
      " 0   Pregnancies               768 non-null    int64  \n",
      " 1   Glucose                   768 non-null    int64  \n",
      " 2   BloodPressure             768 non-null    int64  \n",
      " 3   SkinThickness             768 non-null    int64  \n",
      " 4   Insulin                   768 non-null    int64  \n",
      " 5   BMI                       768 non-null    float64\n",
      " 6   DiabetesPedigreeFunction  768 non-null    float64\n",
      " 7   Age                       768 non-null    int64  \n",
      " 8   Outcome                   768 non-null    int64  \n",
      "dtypes: float64(2), int64(7)\n",
      "memory usage: 54.1 KB\n"
     ]
    }
   ],
   "source": [
    "data = pd.read_csv(r'..\\\\Inputs\\\\diabetes.csv')\n",
    "data.info()"
   ]
  },
  {
   "cell_type": "code",
   "execution_count": 4,
   "id": "73f7e3e1",
   "metadata": {},
   "outputs": [
    {
     "name": "stdout",
     "output_type": "stream",
     "text": [
      "768\n"
     ]
    }
   ],
   "source": [
    "num_records = len(data)\n",
    "print(num_records)"
   ]
  },
  {
   "cell_type": "markdown",
   "id": "3b25f673",
   "metadata": {},
   "source": [
    "##### Preprocessing data"
   ]
  },
  {
   "cell_type": "code",
   "execution_count": 5,
   "id": "9dddadc4",
   "metadata": {},
   "outputs": [
    {
     "data": {
      "text/plain": [
       "(757, 9)"
      ]
     },
     "execution_count": 5,
     "metadata": {},
     "output_type": "execute_result"
    }
   ],
   "source": [
    "data.drop(data[data.BMI == 0].index, inplace=True)\n",
    "data.shape"
   ]
  },
  {
   "cell_type": "code",
   "execution_count": 6,
   "id": "53a3fc5a",
   "metadata": {},
   "outputs": [
    {
     "data": {
      "text/plain": [
       "(729, 9)"
      ]
     },
     "execution_count": 6,
     "metadata": {},
     "output_type": "execute_result"
    }
   ],
   "source": [
    "data.drop(data[data.BloodPressure == 0].index, inplace=True)\n",
    "data.shape"
   ]
  },
  {
   "cell_type": "code",
   "execution_count": 7,
   "id": "bd7396b2",
   "metadata": {},
   "outputs": [],
   "source": [
    "num_records = len(data)\n",
    "records = []\n",
    "for i in range(num_records):\n",
    "    records.append([str(data.values[i,j]) for j in range(9)])"
   ]
  },
  {
   "cell_type": "markdown",
   "id": "ac70c1ea",
   "metadata": {},
   "source": [
    "##### Applying Apriori Model"
   ]
  },
  {
   "cell_type": "code",
   "execution_count": 8,
   "id": "f219e9aa",
   "metadata": {},
   "outputs": [],
   "source": [
    "association_rules = apriori(records,min_support = 0.0053, min_confidence = 0.20, min_lift = 3, min_length = 2)\n",
    "association_results = list(association_rules)"
   ]
  },
  {
   "cell_type": "code",
   "execution_count": 9,
   "id": "c6bc67a1",
   "metadata": {},
   "outputs": [
    {
     "name": "stdout",
     "output_type": "stream",
     "text": [
      "87\n"
     ]
    }
   ],
   "source": [
    "print(len(association_results))"
   ]
  },
  {
   "cell_type": "markdown",
   "id": "4ddd654e",
   "metadata": {},
   "source": [
    "##### Association Rules"
   ]
  },
  {
   "cell_type": "code",
   "execution_count": 10,
   "id": "dcbfefc1",
   "metadata": {},
   "outputs": [
    {
     "name": "stdout",
     "output_type": "stream",
     "text": [
      "RelationRecord(items=frozenset({'11.0', '80.0'}), support=0.0054869684499314125, ordered_statistics=[OrderedStatistic(items_base=frozenset({'11.0'}), items_add=frozenset({'80.0'}), confidence=0.25, lift=4.142045454545455)])\n"
     ]
    }
   ],
   "source": [
    "print(association_results[0])"
   ]
  },
  {
   "cell_type": "markdown",
   "id": "8da92692",
   "metadata": {},
   "source": [
    "##### Finding Results"
   ]
  },
  {
   "cell_type": "code",
   "execution_count": 12,
   "id": "91413c24",
   "metadata": {},
   "outputs": [
    {
     "name": "stdout",
     "output_type": "stream",
     "text": [
      "   Title1 Title2  Support Confidence     Lift\n",
      "0    11.0   80.0  0.00548       0.25  4.14204\n",
      "1   112.0   24.0  0.00548    0.28571  3.41451\n",
      "2   115.0   28.0  0.00548    0.28571  3.65413\n",
      "3    12.0   62.0  0.00548       0.25  4.67307\n",
      "4    31.0  125.0  0.00548    0.23529  4.08403\n",
      "..    ...    ...      ...        ...      ...\n",
      "82   64.0    2.0  0.00548    0.28571  5.34065\n",
      "83    2.0   22.0  0.00548    0.57142  4.95918\n",
      "84    2.0   22.0  0.00548    0.79999     7.29\n",
      "85    2.0   26.0  0.00548    0.44444  7.53488\n",
      "86    8.0   74.0  0.00548    0.66666  17.9999\n",
      "\n",
      "[87 rows x 5 columns]\n"
     ]
    }
   ],
   "source": [
    "results = []\n",
    "for item in association_results:\n",
    "    pair = item[0]\n",
    "    items = [x for x in pair]\n",
    "    value0 = str(items[0])\n",
    "    value1 = str(items[1])\n",
    "    value2 = str(item[1])[:7]\n",
    "    value3 = str(item[2][0][2])[:7]\n",
    "    value4 = str(item[2][0][3])[:7]\n",
    "    \n",
    "    rows = (value0,value1,value2,value3,value4)\n",
    "    results.append(rows)\n",
    "    Label = ['Title1', 'Title2', 'Support', 'Confidence', 'Lift']\n",
    "    diabetic = pd.DataFrame.from_records(results,columns=Label)\n",
    "print(diabetic)"
   ]
  }
 ],
 "metadata": {
  "kernelspec": {
   "display_name": "Python 3 (ipykernel)",
   "language": "python",
   "name": "python3"
  },
  "language_info": {
   "codemirror_mode": {
    "name": "ipython",
    "version": 3
   },
   "file_extension": ".py",
   "mimetype": "text/x-python",
   "name": "python",
   "nbconvert_exporter": "python",
   "pygments_lexer": "ipython3",
   "version": "3.10.1"
  }
 },
 "nbformat": 4,
 "nbformat_minor": 5
}
